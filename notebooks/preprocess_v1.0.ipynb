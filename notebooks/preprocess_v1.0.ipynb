{
 "cells": [
  {
   "cell_type": "code",
   "execution_count": 1,
   "metadata": {},
   "outputs": [],
   "source": [
    "import os\n",
    "import json\n",
    "from tqdm import tqdm\n",
    "import pandas as pd"
   ]
  },
  {
   "cell_type": "code",
   "execution_count": 2,
   "metadata": {},
   "outputs": [
    {
     "data": {
      "text/plain": [
       "['Coats',\n",
       " 'Jackets',\n",
       " 'Jeans',\n",
       " 'Men T-Shirts & Polos',\n",
       " 'Shirts',\n",
       " 'Sportswear',\n",
       " 'Streetwear',\n",
       " 'Women Dresses']"
      ]
     },
     "execution_count": 2,
     "metadata": {},
     "output_type": "execute_result"
    }
   ],
   "source": [
    "master_data_path = \"../data/master_data/\"\n",
    "\n",
    "master_data_directories = [\n",
    "    directory\n",
    "    for directory in os.listdir(master_data_path)\n",
    "    if os.path.isdir(os.path.join(master_data_path, directory))\n",
    "]\n",
    "\n",
    "master_data_directories"
   ]
  },
  {
   "cell_type": "code",
   "execution_count": 3,
   "metadata": {},
   "outputs": [
    {
     "name": "stderr",
     "output_type": "stream",
     "text": [
      "100%|██████████| 1/1 [00:00<00:00,  1.14it/s]\n",
      "100%|██████████| 1/1 [00:02<00:00,  2.01s/it]\n",
      "100%|██████████| 1/1 [00:01<00:00,  1.13s/it]\n",
      "100%|██████████| 1/1 [00:01<00:00,  1.70s/it]\n",
      "100%|██████████| 1/1 [00:02<00:00,  2.43s/it]\n",
      "100%|██████████| 1/1 [00:00<00:00,  2.30it/s]\n",
      "100%|██████████| 1/1 [00:00<00:00,  4.81it/s]\n",
      "100%|██████████| 1/1 [00:01<00:00,  1.35s/it]"
     ]
    },
    {
     "name": "stdout",
     "output_type": "stream",
     "text": [
      "Total rows:  197453\n"
     ]
    },
    {
     "name": "stderr",
     "output_type": "stream",
     "text": [
      "\n"
     ]
    },
    {
     "data": {
      "text/plain": [
       "(None, 197453)"
      ]
     },
     "execution_count": 3,
     "metadata": {},
     "output_type": "execute_result"
    }
   ],
   "source": [
    "zalando_ds = []\n",
    "rows = 0\n",
    "\n",
    "for directory in master_data_directories:\n",
    "    garment = {}\n",
    "    garment_type = directory\n",
    "    garment_directory_path = os.path.join(master_data_path, garment_type)\n",
    "\n",
    "    garment[\"type\"] = garment_type\n",
    "\n",
    "    garment_dataset_json_file = [\n",
    "        ds_file\n",
    "        for ds_file in os.listdir(garment_directory_path)\n",
    "    ]\n",
    "\n",
    "    for garment_ds in tqdm(garment_dataset_json_file):\n",
    "        df = pd.read_json(os.path.join(garment_directory_path, garment_ds))\n",
    "        rows += len(df)\n",
    "\n",
    "        for idx in df.index:\n",
    "            garment[\"name\"] = df[\"name\"][idx]\n",
    "            garment[\"sku\"] = df[\"sku\"][idx]\n",
    "            garment[\"brand\"] = df[\"brand\"][idx]\n",
    "            garment[\"url\"] = df[\"url\"][idx]\n",
    "\n",
    "            zalando_ds.append(garment)\n",
    "\n",
    "print(\"Total rows: \", rows), len(zalando_ds)"
   ]
  },
  {
   "cell_type": "code",
   "execution_count": 5,
   "metadata": {},
   "outputs": [],
   "source": [
    "# save the zalando master dataset as json\n",
    "with open(\n",
    "    \"../data/processed_data/zalando_master_dataset.json\", \"w\", encoding=\"utf-8\"\n",
    ") as f:\n",
    "    json.dump(zalando_ds, f, ensure_ascii=False, indent=4)"
   ]
  },
  {
   "cell_type": "code",
   "execution_count": null,
   "metadata": {},
   "outputs": [],
   "source": [
    "# EXISTING DATA ---\n",
    "# [\n",
    "#     \"name\",\n",
    "#     \"brand\",\n",
    "#     \"sku\",\n",
    "#     \"imageUrl\",\n",
    "#     \"url\",\n",
    "#     \"originalPrice\",\n",
    "#     \"promotionalPrice\",\n",
    "#     \"discountPercentage\",\n",
    "#     \"flags\",\n",
    "#     \"sizes\",\n",
    "# ]\n",
    "\n",
    "# NEW DATA TO GATHER ---\n",
    "# \"material & care\":\n",
    "#     Outer fabric material: 95% cotton, 5% elastane\n",
    "#     Fleece: Yes\n",
    "#     Fabric: Jersey\n",
    "#     Care instructions: Machine wash at 30 °C, do not bleach\n",
    "\n",
    "# \"details\":\n",
    "#     Neckline: Crew neck\n",
    "#     Pattern: Marl\n",
    "#     Waterproof: No\n",
    "#     Article number: BFB22O00B-\n",
    "\n",
    "# \"size & fit\":\n",
    "#     Fit: Regular Fit\n",
    "#     Shape: Straight\n",
    "#     Length: Long\n",
    "#     Sleeve length: Long"
   ]
  }
 ],
 "metadata": {
  "kernelspec": {
   "display_name": "Python 3",
   "language": "python",
   "name": "python3"
  },
  "language_info": {
   "codemirror_mode": {
    "name": "ipython",
    "version": 3
   },
   "file_extension": ".py",
   "mimetype": "text/x-python",
   "name": "python",
   "nbconvert_exporter": "python",
   "pygments_lexer": "ipython3",
   "version": "3.9.0"
  }
 },
 "nbformat": 4,
 "nbformat_minor": 2
}
