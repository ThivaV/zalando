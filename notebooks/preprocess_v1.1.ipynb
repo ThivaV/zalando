{
 "cells": [
  {
   "cell_type": "code",
   "execution_count": null,
   "metadata": {},
   "outputs": [],
   "source": [
    "import json\n",
    "import pandas"
   ]
  },
  {
   "cell_type": "code",
   "execution_count": null,
   "metadata": {},
   "outputs": [],
   "source": [
    "import os\n",
    "\n",
    "zalando_processed_ds = []\n",
    "root_dir = \"../data/processed_data/v1.0/ds\"\n",
    "\n",
    "# return all files as a list\n",
    "for file in os.listdir(root_dir):\n",
    "\n",
    "\t# check the files which are end with specific extension\n",
    "\tif file.endswith(\".json\"):\n",
    "\t\t# print path name of selected files\n",
    "\t\tprint(os.path.join(root_dir, file))\n",
    "\n",
    "\t\t# json file\n",
    "\t\tf = open(os.path.join(root_dir, file), \"r\")\n",
    "\t\t\n",
    "\t\t# read data\n",
    "\t\tgarments = json.loads(f.read())\t\n",
    "\t\tzalando_processed_ds.extend(garments)\n",
    "\t\t\n",
    "print(\"Zalando dataset size: \", len(zalando_processed_ds))\n",
    "zalando_processed_ds[2]"
   ]
  },
  {
   "cell_type": "code",
   "execution_count": null,
   "metadata": {},
   "outputs": [],
   "source": [
    "count = 0\n",
    "for garment in zalando_processed_ds:\n",
    "    if \"imageUrl\" in garment:\n",
    "        count += 1\n",
    "\n",
    "print(count)"
   ]
  },
  {
   "cell_type": "code",
   "execution_count": null,
   "metadata": {},
   "outputs": [],
   "source": [
    "import requests  # type: ignore\n",
    "from PIL import Image  # type: ignore\n",
    "\n",
    "url = 'https://img01.ztat.net/article/spp-media-p1/bb9e532f8eec474184ce0f4c3ae5c8f0/49763893ffd649fbacc8cb5491338195.jpg?imwidth=512'\n",
    "\n",
    "# This statement requests the resource at \n",
    "# the given link, extracts its contents \n",
    "# and saves it in a variable \n",
    "data = requests.get(url).content \n",
    "\n",
    "# Opening a new file named img with extension .jpg \n",
    "# This file would store the data of the image file \n",
    "f = open('img.jpg','wb') \n",
    "\n",
    "# Storing the image data inside the data variable to the file \n",
    "f.write(data) \n",
    "f.close() \n",
    "\n",
    "# Opening the saved image and displaying it \n",
    "img = Image.open('img.jpg') \n",
    "img.show()"
   ]
  },
  {
   "cell_type": "code",
   "execution_count": null,
   "metadata": {},
   "outputs": [],
   "source": [
    "from urllib.parse import urlparse\n",
    "\n",
    "o = urlparse(\"http://docs.python.org:80/3/library/urllib.parse.html?\"\n",
    "             \"highlight=params#url-parsing\")"
   ]
  },
  {
   "cell_type": "code",
   "execution_count": null,
   "metadata": {},
   "outputs": [],
   "source": [
    "import re\n",
    "\n",
    "url = 'https://img01.ztat.net/article/spp-media-p1/bb9e532f8eec474184ce0f4c3ae5c8f0/49763893ffd649fbacc8cb5491338195.jpg?imwidth=512'\n",
    "pattern = r'(https://[^?]+)'\n",
    "match = re.search(pattern, url)\n",
    "\n",
    "if match:\n",
    "    extracted_url = match.group(1)\n",
    "    print(extracted_url)\n",
    "else:\n",
    "    print(\"No valid image URL found.\")\n"
   ]
  },
  {
   "cell_type": "code",
   "execution_count": 2,
   "metadata": {},
   "outputs": [
    {
     "name": "stdout",
     "output_type": "stream",
     "text": [
      "Device:  cuda\n"
     ]
    },
    {
     "data": {
      "text/plain": [
       "SentenceTransformer(\n",
       "  (0): CLIPModel()\n",
       ")"
      ]
     },
     "execution_count": 2,
     "metadata": {},
     "output_type": "execute_result"
    }
   ],
   "source": [
    "from tqdm.autonotebook import tqdm, trange\n",
    "\n",
    "from sentence_transformers import SentenceTransformer\n",
    "import torch\n",
    "\n",
    "device = 'cuda' if torch.cuda.is_available() else 'cpu'\n",
    "print(\"Device: \", device)\n",
    "\n",
    "model = SentenceTransformer(\"sentence-transformers/clip-ViT-L-14\", device=device)\n",
    "model"
   ]
  },
  {
   "cell_type": "code",
   "execution_count": 8,
   "metadata": {},
   "outputs": [
    {
     "data": {
      "text/plain": [
       "(768,)"
      ]
     },
     "execution_count": 8,
     "metadata": {},
     "output_type": "execute_result"
    }
   ],
   "source": [
    "dense_embeds = model.encode(\"img.jpg\")\n",
    "dense_embeds.shape"
   ]
  },
  {
   "cell_type": "code",
   "execution_count": 9,
   "metadata": {},
   "outputs": [
    {
     "name": "stdout",
     "output_type": "stream",
     "text": [
      "tensor([[0.0884, 0.2230, 0.0610, 0.2319, 0.0924, 0.2532]])\n"
     ]
    }
   ],
   "source": [
    "from sentence_transformers import SentenceTransformer, util\n",
    "from PIL import Image\n",
    "\n",
    "#Load CLIP model\n",
    "model = SentenceTransformer('clip-ViT-L-14')\n",
    "\n",
    "#Encode an image:\n",
    "img_emb = model.encode(Image.open('img.jpg'))\n",
    "\n",
    "#Encode text descriptions\n",
    "text_emb = model.encode(['Two dogs in the snow', 'a man wearing green coat', 'A cat on a table', 'coat', 'A picture of London at night', 'green coat'])\n",
    "\n",
    "#Compute cosine similarities \n",
    "cos_scores = util.cos_sim(img_emb, text_emb)\n",
    "print(cos_scores)"
   ]
  },
  {
   "cell_type": "code",
   "execution_count": null,
   "metadata": {},
   "outputs": [],
   "source": [
    "url = \"https://img01.ztat.net/article/spp-media-p1/bb9e532f8eec474184ce0f4c3ae5c8f0/49763893ffd649fbacc8cb5491338195.jpg?imwidth=300\""
   ]
  }
 ],
 "metadata": {
  "kernelspec": {
   "display_name": "Python 3",
   "language": "python",
   "name": "python3"
  },
  "language_info": {
   "codemirror_mode": {
    "name": "ipython",
    "version": 3
   },
   "file_extension": ".py",
   "mimetype": "text/x-python",
   "name": "python",
   "nbconvert_exporter": "python",
   "pygments_lexer": "ipython3",
   "version": "3.9.0"
  }
 },
 "nbformat": 4,
 "nbformat_minor": 2
}
