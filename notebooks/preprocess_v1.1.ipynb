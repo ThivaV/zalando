{
 "cells": [
  {
   "cell_type": "code",
   "execution_count": 1,
   "metadata": {},
   "outputs": [],
   "source": [
    "import json\n",
    "import pandas"
   ]
  },
  {
   "cell_type": "code",
   "execution_count": 2,
   "metadata": {},
   "outputs": [
    {
     "name": "stdout",
     "output_type": "stream",
     "text": [
      "../data/processed_data/zalando_master_dataset_0.json\n",
      "../data/processed_data/zalando_master_dataset_1.json\n",
      "../data/processed_data/zalando_master_dataset_10.json\n",
      "../data/processed_data/zalando_master_dataset_11.json\n",
      "../data/processed_data/zalando_master_dataset_12.json\n",
      "../data/processed_data/zalando_master_dataset_13.json\n",
      "../data/processed_data/zalando_master_dataset_14.json\n",
      "../data/processed_data/zalando_master_dataset_15.json\n",
      "../data/processed_data/zalando_master_dataset_16.json\n",
      "../data/processed_data/zalando_master_dataset_17.json\n",
      "../data/processed_data/zalando_master_dataset_18.json\n",
      "../data/processed_data/zalando_master_dataset_19.json\n",
      "../data/processed_data/zalando_master_dataset_2.json\n",
      "../data/processed_data/zalando_master_dataset_3.json\n",
      "../data/processed_data/zalando_master_dataset_4.json\n",
      "../data/processed_data/zalando_master_dataset_5.json\n",
      "../data/processed_data/zalando_master_dataset_6.json\n",
      "../data/processed_data/zalando_master_dataset_7.json\n",
      "../data/processed_data/zalando_master_dataset_8.json\n",
      "../data/processed_data/zalando_master_dataset_9.json\n",
      "Zalando dataset size:  197453\n"
     ]
    },
    {
     "data": {
      "text/plain": [
       "{'name': 'Winter coat - duffle bag',\n",
       " 'brand': 'Superdry',\n",
       " 'imageUrl': 'https://img01.ztat.net/article/spp-media-p1/bb9e532f8eec474184ce0f4c3ae5c8f0/49763893ffd649fbacc8cb5491338195.jpg?imwidth=300',\n",
       " 'sku': 'SU222T0VZ-M11',\n",
       " 'url': 'https://en.zalando.de/superdry-winter-coat-duffle-bag-su222t0vz-m11.html',\n",
       " 'originalPrice': '239,99\\xa0€',\n",
       " 'discountPercentage': '',\n",
       " 'sizes': [{'size': 'S', 'sku': 'SU222T0VZ-M11000S000'},\n",
       "  {'size': 'M', 'sku': 'SU222T0VZ-M11000M000'},\n",
       "  {'size': 'L', 'sku': 'SU222T0VZ-M11000L000'}],\n",
       " 'flags': [],\n",
       " 'type': 'Coats'}"
      ]
     },
     "execution_count": 2,
     "metadata": {},
     "output_type": "execute_result"
    }
   ],
   "source": [
    "import os\n",
    "\n",
    "zalando_processed_ds = []\n",
    "root_dir = \"../data/processed_data\"\n",
    "\n",
    "# return all files as a list\n",
    "for file in os.listdir(root_dir):\n",
    "\n",
    "\t# check the files which are end with specific extension\n",
    "\tif file.endswith(\".json\"):\n",
    "\t\t# print path name of selected files\n",
    "\t\tprint(os.path.join(root_dir, file))\n",
    "\n",
    "\t\t# json file\n",
    "\t\tf = open(os.path.join(root_dir, file), \"r\")\n",
    "\t\t\n",
    "\t\t# read data\n",
    "\t\tgarments = json.loads(f.read())\t\n",
    "\t\tzalando_processed_ds.extend(garments)\n",
    "\t\t\n",
    "print(\"Zalando dataset size: \", len(zalando_processed_ds))\n",
    "zalando_processed_ds[2]"
   ]
  },
  {
   "cell_type": "code",
   "execution_count": null,
   "metadata": {},
   "outputs": [],
   "source": []
  }
 ],
 "metadata": {
  "kernelspec": {
   "display_name": "Python 3",
   "language": "python",
   "name": "python3"
  },
  "language_info": {
   "codemirror_mode": {
    "name": "ipython",
    "version": 3
   },
   "file_extension": ".py",
   "mimetype": "text/x-python",
   "name": "python",
   "nbconvert_exporter": "python",
   "pygments_lexer": "ipython3",
   "version": "3.9.0"
  }
 },
 "nbformat": 4,
 "nbformat_minor": 2
}
