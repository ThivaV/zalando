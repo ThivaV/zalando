{
 "cells": [
  {
   "cell_type": "markdown",
   "metadata": {},
   "source": [
    "# Zalando Fashion Pal Milvus DB Ops"
   ]
  },
  {
   "cell_type": "code",
   "execution_count": 1,
   "metadata": {},
   "outputs": [],
   "source": [
    "import subprocess"
   ]
  },
  {
   "cell_type": "code",
   "execution_count": 1,
   "metadata": {},
   "outputs": [],
   "source": [
    "from pymilvus import connections"
   ]
  },
  {
   "cell_type": "markdown",
   "metadata": {},
   "source": [
    "## Connect to Milvus Docker"
   ]
  },
  {
   "cell_type": "markdown",
   "metadata": {},
   "source": [
    "* Docuemnttion [Run Milvus in Docker](https://milvus.io/docs/install_standalone-docker.md)\n",
    "    * Download the installation script: `$ curl -sfL https://raw.githubusercontent.com/milvus-io/milvus/master/scripts/standalone_embed.sh -o standalone_embed.sh`\n",
    "    * Start the Docker container: `$ bash standalone_embed.sh start`\n",
    "    * Stop Milvus: `$ bash standalone_embed.sh stop`\n",
    "    * Delete Milvus data: `$ bash standalone_embed.sh delete`\n",
    "    * Upgrade Milvus: `$ bash standalone_embed.sh upgrade`"
   ]
  },
  {
   "cell_type": "code",
   "execution_count": 2,
   "metadata": {},
   "outputs": [],
   "source": [
    "def connect_to_milvus_docker():\n",
    "    try:\n",
    "        connections.connect(\"default\", host=\"127.0.0.1\", port=19530)\n",
    "        print(\"Successfully connected to Milvus\")\n",
    "    except Exception as ex:\n",
    "        print(f\"Failed to connect to Milvus docker: {ex}\")"
   ]
  },
  {
   "cell_type": "code",
   "execution_count": 3,
   "metadata": {},
   "outputs": [
    {
     "name": "stdout",
     "output_type": "stream",
     "text": [
      "Successfully connected to Milvus\n"
     ]
    }
   ],
   "source": [
    "connect_to_milvus_docker()"
   ]
  },
  {
   "cell_type": "code",
   "execution_count": 5,
   "metadata": {},
   "outputs": [],
   "source": [
    "# disconnect connection\n",
    "connections.disconnect(alias=\"default\")"
   ]
  },
  {
   "cell_type": "markdown",
   "metadata": {},
   "source": [
    "## Connect to Milvus Lite"
   ]
  },
  {
   "cell_type": "markdown",
   "metadata": {},
   "source": [
    "### Download Zalando Fashion Pal Milvus Lite DB from GDrive\n",
    "\n",
    "Make the script executable by running: `chmod +x sync_milvus_db.sh`"
   ]
  },
  {
   "cell_type": "code",
   "execution_count": null,
   "metadata": {},
   "outputs": [],
   "source": [
    "script_path=r\"../data/db/milvus/sync_milvus_db.sh\"\n",
    "file_id=r\"\"\n",
    "destination_path=r\"../data/db/milvus/\"\n",
    "result=subprocess.run(['bash', script_path, file_id, destination_path], check=True, capture_output=True, text=True)\n",
    "print(f\"Script output: {result}\")"
   ]
  },
  {
   "cell_type": "markdown",
   "metadata": {},
   "source": [
    "### connect to Milvus DB"
   ]
  },
  {
   "cell_type": "code",
   "execution_count": 6,
   "metadata": {},
   "outputs": [],
   "source": [
    "milvus_db_uri = r\"../data/db/milvus/zalando_fashionista.db\"\n",
    "connections.connect(uri=milvus_db_uri)"
   ]
  },
  {
   "cell_type": "code",
   "execution_count": 8,
   "metadata": {},
   "outputs": [],
   "source": [
    "connections.disconnect(alias=milvus_db_uri)"
   ]
  },
  {
   "cell_type": "code",
   "execution_count": null,
   "metadata": {},
   "outputs": [],
   "source": []
  }
 ],
 "metadata": {
  "kernelspec": {
   "display_name": ".venv",
   "language": "python",
   "name": "python3"
  },
  "language_info": {
   "codemirror_mode": {
    "name": "ipython",
    "version": 3
   },
   "file_extension": ".py",
   "mimetype": "text/x-python",
   "name": "python",
   "nbconvert_exporter": "python",
   "pygments_lexer": "ipython3",
   "version": "3.11.0"
  }
 },
 "nbformat": 4,
 "nbformat_minor": 2
}
